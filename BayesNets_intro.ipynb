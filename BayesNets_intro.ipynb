{
 "cells": [
  {
   "cell_type": "markdown",
   "id": "0",
   "metadata": {},
   "source": [
    "# A simple demondstration of Bayesian Networks\n",
    "\n",
    "In this notebook, I'm going to use the [Julia](https://julialang.org/) programming language to demonstrate some of the basic ideas of a Bayesian network. We will use the Julia package [BayesNets.jl](https://sisl.github.io/BayesNets.jl/dev/) to build and reason with very simple Bayesian networks.\n",
    "\n",
    "## Main Assumption\n",
    "\n",
    "- All our variables are discrete (that is, they can only have a finite number of possible values)."
   ]
  },
  {
   "cell_type": "code",
   "execution_count": null,
   "id": "1",
   "metadata": {},
   "outputs": [],
   "source": [
    "using BayesNets"
   ]
  },
  {
   "cell_type": "code",
   "execution_count": null,
   "id": "2",
   "metadata": {},
   "outputs": [],
   "source": [
    "using TikzGraphs # required to plot tex-formatted graphs (recommended), otherwise GraphPlot.jl is used"
   ]
  },
  {
   "cell_type": "markdown",
   "id": "3",
   "metadata": {},
   "source": [
    "## Example: Satellite Monitoring\n",
    "\n",
    "To start with, here is a non-medical example from [_Algorithms for Decision Making_](https://algorithmsbook.com). The objective for the model is to understand the behavior of a satellite which may experience a trajectory deviation due to various components of teh satellite failing. These are the components of the satellite:\n",
    "\n",
    "- `Battery` battery failure\n",
    "- `Solar` solar panel failure\n",
    "- `Electrical` electrical system failure\n",
    "- `Deviation` trajectory deviation\n",
    "- `Communication` communication loss.\n",
    "\n",
    "Here is how the authors describe the model.\n",
    "\n",
    ">Fortunately, battery failure and solar panel failures are both rare, although solar panel failures are somewhat more likely than battery failures. Failures in either can lead to an electrical system failure. There may be causes of electrical system failure other than battery or solar panel failure, such as a problem with the power management unit. An electrical system failure can result in trajectory deviation, which can be observed from the earth by telescope, as well as a communication loss that interrupts the transmission of telemetry and mission data down to various ground stations. Other anomalies not involving the electrical system can result in trajectory deviation and communication loss. (p. 34)\n",
    "\n",
    "The Bayesian network for this model looks like this:\n",
    "\n",
    "<img src=\"sat.png\" alt=\"satellite model\" width=\"175\">\n"
   ]
  },
  {
   "cell_type": "markdown",
   "id": "4",
   "metadata": {},
   "source": [
    "### Specifying the model\n",
    "\n",
    "For each of the nodes, we need to provide the appropriate probabilities. For nodes without parents, we need to provide the prior probabilities for each state. The states are ordered so the first value represents the probability of not failing and the second value represents the probability of failing. So, for example, with the battery\n",
    "\n",
    "\\begin{eqnarray}\n",
    "P(\\text{not battery fails})=&0.99\\\\\n",
    "P(\\text{battery fails})=&0.99&=&0.01\n",
    "\\end{eqnarray}\n",
    "\n",
    "Which we specify with an array passed to the descrete conditional probability distribution function (`DiscreteCPD`).\n",
    "\n",
    "```Julia\n",
    "DiscreteCPD(:Battery, [0.99, 0.01])\n",
    "```\n",
    "\n",
    "For the nodes with parents, we need to provide all the conditional probabilities. So, for example for Communication loss we need to provide the probabilities of \n",
    "\n",
    "1. no communication loss given no electrical failure (0.98)\n",
    "2. communication loss given no electrical failure (0.02)\n",
    "3. no communication loss given electrical failure (0.01)\n",
    "4. communication loss given electrical failure (0.99)\n",
    "\n",
    "This looks like the following\n",
    "\n",
    "```Julia\n",
    "\n",
    "DiscreteCPD(:Communication, [:Electrical], [2],\n",
    "        [Categorical([0.98, 0.02]),\n",
    "         Categorical([0.01, 0.99])])\n",
    "```"
   ]
  },
  {
   "cell_type": "code",
   "execution_count": null,
   "id": "5",
   "metadata": {},
   "outputs": [],
   "source": [
    "bns = DiscreteBayesNet()\n",
    "push!(bns, DiscreteCPD(:Battery, [0.99, 0.01]))\n",
    "push!(bns, DiscreteCPD(:Solar, [0.98, 0.02]))\n",
    "push!(bns, DiscreteCPD(:Electrical, [:Battery, :Solar], [2,2],\n",
    "        [Categorical([0.9, 0.1]), # (B=1 & S=1 & E=1, B=1 & S=1 & S=2)\n",
    "         Categorical([0.05,0.95]), #(B=2 & S=1 & E=1, B=2 & S=1 & E=2)\n",
    "         Categorical([0.04,0.96]), #(B=1 & S=2 & E=1, B=1 & S=2 & E=2)\n",
    "         Categorical([0.01,0.99])])) #(B=2 & S=2 & E=1, B=2 & S=2 & E=2)\n",
    "push!(bns, DiscreteCPD(:Deviation, [:Electrical], [2],\n",
    "        [Categorical([0.96, 0.04]), #(E=1 & D=1, E=1 & D=2)\n",
    "         Categorical([0.03, 0.97])])) #(E=2 & D=1, E=2 & D=2)\n",
    "push!(bns, DiscreteCPD(:Communication, [:Electrical], [2],\n",
    "        [Categorical([0.98, 0.02]), #(E=1 & C=1, E=1 & C=2)\n",
    "         Categorical([0.01, 0.99])])); #(E=2 & D=1, E=2 & D=2)\n"
   ]
  },
  {
   "cell_type": "markdown",
   "id": "6",
   "metadata": {},
   "source": [
    "### We can draw the network"
   ]
  },
  {
   "cell_type": "code",
   "execution_count": null,
   "id": "7",
   "metadata": {},
   "outputs": [],
   "source": [
    "bns"
   ]
  },
  {
   "cell_type": "markdown",
   "id": "8",
   "metadata": {},
   "source": [
    "### Checking\n",
    "\n",
    "We can use the `table` function to check that we have specified the probabilities correctly."
   ]
  },
  {
   "cell_type": "code",
   "execution_count": null,
   "id": "9",
   "metadata": {},
   "outputs": [],
   "source": [
    "table(bns, :Electrical)"
   ]
  },
  {
   "cell_type": "markdown",
   "id": "10",
   "metadata": {},
   "source": [
    "## Inferencing \n",
    "\n",
    "Now that we have our model, we can do inferencing\n",
    "\n",
    "We start off by calculating what the probabilities of there being no electrical failure (1) or an electrical failure (2) without any evidence.\n",
    "\n",
    "We can do this for any of our variables we are interested."
   ]
  },
  {
   "cell_type": "code",
   "execution_count": null,
   "id": "11",
   "metadata": {},
   "outputs": [],
   "source": [
    "infer(bns, :Electrical)"
   ]
  },
  {
   "cell_type": "code",
   "execution_count": null,
   "id": "12",
   "metadata": {},
   "outputs": [],
   "source": [
    "infer(bns, :Deviation)"
   ]
  },
  {
   "cell_type": "markdown",
   "id": "13",
   "metadata": {},
   "source": [
    "### What is the probability of there being a battery failure given that we have a trajectory deviation?\n",
    "\n",
    "- We specify what we know using `evidence` and `Assignment`\n",
    "  - In this case we are assigning the value of 2 (True) to `:Deviation`\n",
    "- We then `infer` the value we are interested, in this case `:Battery`"
   ]
  },
  {
   "cell_type": "code",
   "execution_count": null,
   "id": "14",
   "metadata": {},
   "outputs": [],
   "source": [
    "infer(bns, :Battery, evidence=Assignment(:Deviation=>2))"
   ]
  },
  {
   "cell_type": "markdown",
   "id": "15",
   "metadata": {},
   "source": [
    "### What is the state of the battery if we have trajectory deviation and we know the solar panel has failed?"
   ]
  },
  {
   "cell_type": "code",
   "execution_count": null,
   "id": "16",
   "metadata": {},
   "outputs": [],
   "source": [
    "infer(bns, :Battery, evidence=Assignment(:Deviation=>2, :Solar=>2))"
   ]
  },
  {
   "cell_type": "markdown",
   "id": "17",
   "metadata": {},
   "source": [
    "### Change the values around and see how the behavior changes\n",
    "- Remember the values in the square brackets have to add up to 1\n",
    "- If they don't, you'll get an error like this:\n"
   ]
  },
  {
   "cell_type": "markdown",
   "id": "18",
   "metadata": {},
   "source": [
    "## A medical example\n",
    "\n",
    "The following is an early example of a Bayesian network provided by S. L. Lauritzen and D. J. Spiegelhalter in their 1988 article [\"Local Computations with Probabilities on Graphical Structures and Their Application to Expert Systems\"](http://www.jstor.org/stable/2345762?origin=JSTOR-pdf).\n",
    "\n",
    "Here is the problem as stated by the authors:\n",
    "\n",
    ">Shortness-of-breath (dyspnoea) may be due to tuberculosis, lung cancer or bronchitis, or none of them, or more than one of them. A recent visit to Asia increases the chances af tuberculosis, while smoking is known to be a risk factor for both lung cancer and bronchitis. The results of a single chest X-ray do not discriminate between lung cancer and tuberculosis, as neither does the presence or absence of dyspnoea. (p. 163)\n",
    "\n",
    "The authors define the following network topology\n",
    "\n",
    "![](./media/bn_topology.png)\n",
    "\n",
    "and provide these probabilities. (Remember, since probabilities have to add up to 1, for binary variables we only need to provide one value.)\n",
    "\n",
    "![](./media/bn_probabilities.png)"
   ]
  },
  {
   "cell_type": "markdown",
   "id": "19",
   "metadata": {},
   "source": [
    "### We can create the network as follows:"
   ]
  },
  {
   "cell_type": "code",
   "execution_count": null,
   "id": "20",
   "metadata": {},
   "outputs": [],
   "source": [
    "bncxr = DiscreteBayesNet()\n",
    "push!(bncxr, DiscreteCPD(:Smoker, [0.5, 0.5]))\n",
    "push!(bncxr, DiscreteCPD(:Asia, [0.99,0.01]))\n",
    "\n",
    "push!(bncxr, CategoricalCPD(:LungCancer, [:Smoker], [2], \n",
    "        [Categorical([0.99,0.01]),\n",
    "         Categorical([0.90,0.10])]))\n",
    "push!(bncxr, CategoricalCPD(:Bronchitis, [:Smoker], [2], \n",
    "        [Categorical([0.70,0.30]),\n",
    "         Categorical([0.40,0.60])]))\n",
    "push!(bncxr, CategoricalCPD(:Tuberculosis, [:Asia], [2], \n",
    "        [Categorical([0.99,0.01]),\n",
    "         Categorical([0.95,0.05])]))\n",
    "push!(bncxr, DiscreteCPD(:TuberculosisOrCancer, [:Tuberculosis, :LungCancer], [2,2], \n",
    "        [Categorical([1.00,0.00]), \n",
    "         Categorical([0.00,1.00]), \n",
    "         Categorical([0.00,1.00]), \n",
    "         Categorical([0.00,1.00]), \n",
    "        ]))\n",
    "push!(bncxr, CategoricalCPD(:CXR, [:TuberculosisOrCancer], [2], \n",
    "        [Categorical([0.95,0.05]),\n",
    "         Categorical([0.02,0.98])]))\n",
    "push!(bncxr, CategoricalCPD(:Dyspnoea, [:TuberculosisOrCancer, :Bronchitis], [2,2], \n",
    "        [Categorical([0.90,0.10]), \n",
    "         Categorical([0.30,0.70]), \n",
    "         Categorical([0.20,0.80]), \n",
    "         Categorical([0.10,0.90]), \n",
    "        ]))"
   ]
  },
  {
   "cell_type": "code",
   "execution_count": null,
   "id": "21",
   "metadata": {},
   "outputs": [],
   "source": [
    "table(bncxr, :CXR)"
   ]
  },
  {
   "cell_type": "code",
   "execution_count": null,
   "id": "22",
   "metadata": {},
   "outputs": [],
   "source": [
    "infer(bncxr, :LungCancer)"
   ]
  },
  {
   "cell_type": "code",
   "execution_count": null,
   "id": "23",
   "metadata": {},
   "outputs": [],
   "source": [
    "table(bncxr, :Dyspnoea)"
   ]
  },
  {
   "cell_type": "markdown",
   "id": "24",
   "metadata": {},
   "source": [
    "### We can explore the probability of different diseases given different findings\n",
    "\n",
    "Remember, 1 means false and 2 means true."
   ]
  },
  {
   "cell_type": "code",
   "execution_count": null,
   "id": "25",
   "metadata": {},
   "outputs": [],
   "source": [
    "infer(bncxr, :LungCancer, \n",
    "    evidence=Assignment(\n",
    "        :Asia=>1, \n",
    "        :Dyspnoea=>2,\n",
    "        :Smoker=>2,\n",
    "        :CXR=>2))"
   ]
  },
  {
   "cell_type": "code",
   "execution_count": null,
   "id": "26",
   "metadata": {},
   "outputs": [],
   "source": [
    "infer(bncxr, :Bronchitis, \n",
    "    evidence=Assignment(\n",
    "        :Asia=>1, \n",
    "        :Dyspnoea=>2,\n",
    "        :Smoker=>1,\n",
    "        :CXR=>1))"
   ]
  },
  {
   "cell_type": "code",
   "execution_count": null,
   "id": "27",
   "metadata": {},
   "outputs": [],
   "source": [
    "infer(bncxr, :Tuberculosis, \n",
    "    evidence=Assignment(\n",
    "        :Asia=>2, \n",
    "        :Dyspnoea=>2,\n",
    "        :Smoker=>1,\n",
    "        :CXR=>1))"
   ]
  },
  {
   "cell_type": "code",
   "execution_count": null,
   "id": "28",
   "metadata": {},
   "outputs": [],
   "source": []
  }
 ],
 "metadata": {
  "kernelspec": {
   "display_name": "Julia 1.10.4 (4 threads) 1.10.4",
   "language": "julia",
   "name": "julia-1.10.4-_4-threads_-1.10"
  },
  "language_info": {
   "file_extension": ".jl",
   "mimetype": "application/julia",
   "name": "julia",
   "version": "1.10.4"
  }
 },
 "nbformat": 4,
 "nbformat_minor": 5
}
