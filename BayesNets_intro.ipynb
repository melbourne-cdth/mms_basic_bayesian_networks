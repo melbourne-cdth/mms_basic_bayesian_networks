{
 "cells": [
  {
   "cell_type": "markdown",
   "id": "9b0aceed-9fea-4e21-be56-b527601714f0",
   "metadata": {},
   "source": [
    "# A simple demondstration of Bayesian Networks\n",
    "\n",
    "In this notebook, I'm going to use the [Julia](https://julialang.org/) programming language to demonstrate some of the basic ideas of a Bayesian network. We will use the Julia package [BayesNets.jl](https://sisl.github.io/BayesNets.jl/dev/) to build and reason with a Bayesian network\n",
    "\n",
    "## Main Assumption\n",
    "\n",
    "- All our variables are discrete (take a finite number of possible values)"
   ]
  },
  {
   "cell_type": "code",
   "execution_count": null,
   "id": "bb2b3b37-9897-42ee-8af4-9aef40a6601d",
   "metadata": {},
   "outputs": [],
   "source": [
    "using BayesNets"
   ]
  },
  {
   "cell_type": "code",
   "execution_count": null,
   "id": "290ee6a9-4650-4473-9c91-3717746d3e56",
   "metadata": {},
   "outputs": [],
   "source": [
    "using TikzGraphs # required to plot tex-formatted graphs (recommended), otherwise GraphPlot.jl is used\n"
   ]
  },
  {
   "cell_type": "markdown",
   "id": "a51237b9-92a8-4d5b-b713-6c8c63c8d6a4",
   "metadata": {},
   "source": [
    "## Example\n",
    "\n",
    "\n",
    "\n",
    "I'm looking up at the sky and I see something. Is it a bird or a plane or Superman? How happy I am depends on what I see. I can see one of three things:\n",
    "\n",
    "1. A bird\n",
    "1. A plane\n",
    "1. Superman\n",
    "\n",
    "The Bayesian network will look like the following:\n",
    "\n",
    "![superman](./superman.svg)\n",
    "\n",
    "For nodes that don't have any parents (no edges coming into them), we provide the prior probabilities (_a priori_). There are three states for `:seeing` so I need to provide three prior probabilities\n",
    "\n",
    "What I see (or don't see) has to be exhaustive and the probabilities for seeing a bird, a plane, or Superman have to add up to 1\n",
    "\n",
    "1. $P(seeing=\\text{A bird (state 1)})=0.40$\n",
    "1. $P(seeing=\\text{A plane (state 2)})=0.55$\n",
    "1. $P(seeing=\\text{Superman (state 3)})=1-(0.40+0.55)=0.05$\n",
    "\n",
    "`:happy` has parents so for happy I need to provide the conditional probabilities for each state of `:happy` ($\\text{:happy}_i$) for each state of `:seeing` ($\\text{:seeing}_j$): $P(\\text{:happy}_i|\\text{:seeing}_j)$. Namely\n",
    "\n",
    "| `:seeing`  | `:happy`      | P(`:seeing`,`:happy`) |\n",
    "|:-----------|:--------------|:------:|\n",
    "|`:bird`     | -`:happy`     | 0.4|\n",
    "|`:plane`    | -`:happy`    | 0.85|\n",
    "|`:superman` | -`:happy`    | 0.01 |\n",
    "|`:bird`     | +`:happy`        |0.6 |\n",
    "|`:plane`    | +`:happy`     |0.15 |\n",
    "|`:superman` | +`:happy`    | 0.99 |\n",
    "\n",
    "\n",
    "This is _factor table_ is in the order of variables expected in `BayesNets.jl`."
   ]
  },
  {
   "cell_type": "code",
   "execution_count": null,
   "id": "675a1922-787e-4f55-adec-7b67e91b572c",
   "metadata": {},
   "outputs": [],
   "source": [
    "bn2a = DiscreteBayesNet()\n",
    "push!(bn2a, DiscreteCPD(:sighted, [0.40, 0.55, 0.05])) # Prior probabilities for seeing states\n",
    "push!(bn2a, CategoricalCPD(:happy, [:sighted], [3], [Categorical([0.4,0.6]), # (Prob not happy | bird, Prob happy| bird) sums to 1\n",
    "                                                     Categorical([0.85,0.15]), # (Prob not happy | plane, Prob happy | bird) sums to 1\n",
    "                                                     Categorical([0.01,0.99]),])) # (Prob not happy | Superman, Prob happy | Superman) sums to 1"
   ]
  },
  {
   "cell_type": "markdown",
   "id": "4620340f-4c9d-4c2b-91da-e234fed32869",
   "metadata": {},
   "source": [
    "### We can check the generated factor table to make sure it is what we expected\n",
    "\n",
    "- happy=1 means not happy\n",
    "- happy=2 means happy"
   ]
  },
  {
   "cell_type": "code",
   "execution_count": null,
   "id": "c6e3297f-1098-4baf-ac6e-4b92d7806031",
   "metadata": {},
   "outputs": [],
   "source": [
    "table(bn2a, :happy)"
   ]
  },
  {
   "cell_type": "markdown",
   "id": "8432ccfe-165a-4894-b075-b79240232c7f",
   "metadata": {},
   "source": [
    "## Inferencing \n",
    "\n",
    "Now that we have our model, we can do inferencing\n",
    "\n",
    "We start off by calculating what the probabilities of being not happy (1) or happy (2) without any evidence"
   ]
  },
  {
   "cell_type": "code",
   "execution_count": null,
   "id": "55b98379-4f32-45b8-b479-b04873a68284",
   "metadata": {},
   "outputs": [],
   "source": [
    "f1 = infer(bn2a, :happy)"
   ]
  },
  {
   "cell_type": "markdown",
   "id": "43a22a34-15d4-45e4-b6c9-cd809cf8ee6d",
   "metadata": {},
   "source": [
    "### Check\n",
    "\n",
    "The probability of being happy is just the sum of all the ways we can be happy:\n",
    "\n",
    "Probability of seeing bird __times__ the probability of being happy seeing a bird __plus__ probability of seeing plan __times__ the probability of being happy seeing a plane __plus__ probability of seeing Superman __times__ the probability of being happy seeing Superman"
   ]
  },
  {
   "cell_type": "code",
   "execution_count": null,
   "id": "bfd5ae05-ebce-432f-9972-34e17aac8059",
   "metadata": {},
   "outputs": [],
   "source": [
    "0.4*0.6+0.55*0.15+0.05*0.99"
   ]
  },
  {
   "cell_type": "markdown",
   "id": "5e1fbb6e-5e2c-4b78-a25f-8a93e1346778",
   "metadata": {},
   "source": [
    "## We can also verify that the probility of happy and not happy sum to 1"
   ]
  },
  {
   "cell_type": "code",
   "execution_count": null,
   "id": "eb7625ec-8980-4f4c-9397-4cd2656c1b84",
   "metadata": {},
   "outputs": [],
   "source": [
    "sum(f1.potential)"
   ]
  },
  {
   "cell_type": "markdown",
   "id": "a91000c9-e305-4ef6-9329-06335a29710a",
   "metadata": {},
   "source": [
    "### What is the probability of seeing a plane given that I'm happy?"
   ]
  },
  {
   "cell_type": "code",
   "execution_count": null,
   "id": "2c1656c8-c11e-4cc7-b9ff-c86702f3563d",
   "metadata": {},
   "outputs": [],
   "source": [
    "f2 = infer(bn2a, :sighted, evidence=Assignment(:happy=>2))"
   ]
  },
  {
   "cell_type": "code",
   "execution_count": null,
   "id": "c6b4ef88-9e41-4e06-9cb2-03ed7104d936",
   "metadata": {},
   "outputs": [],
   "source": [
    "sum(f2.potential)"
   ]
  },
  {
   "cell_type": "markdown",
   "id": "a54a72e8-4189-4118-bb5c-962e59458151",
   "metadata": {},
   "source": [
    "## Example: Satellite Monitoring\n",
    "\n",
    "Here is an example from _Algorithms for Decision Making_\n",
    "\n",
    "- `B` battery failure\n",
    "- `S` solar panel failure\n",
    "- `E` electrical system failure D trajectory deviation\n",
    "- `C` communication loss\n",
    "\n",
    ">Fortunately, battery failure and solar panel failures are both rare, although solar panel failures are somewhat more likely than battery failures. Failures in either can lead to an electrical system failure. There may be causes of electrical system failure other than battery or solar panel failure, such as a problem with the power management unit. An electrical system failure can result in trajectory deviation, which can be observed from the earth by telescope, as well as a communication loss that interrupts the transmission of telemetry and mission data down to various ground stations. Other anomalies not involving the electrical system can result in trajectory deviation and communication loss. (p. 34)\n",
    "\n",
    "The Bayesian network for this model looks like this:\n",
    "\n",
    "<img src=\"sat.png\" alt=\"satellite model\" width=\"175\">\n"
   ]
  },
  {
   "cell_type": "code",
   "execution_count": null,
   "id": "972e2b14-9b2a-491d-a950-8d06470f4524",
   "metadata": {},
   "outputs": [],
   "source": [
    "bns = DiscreteBayesNet()\n",
    "push!(bns, DiscreteCPD(:B, [0.99, 0.01]))\n",
    "push!(bns, DiscreteCPD(:S, [0.98, 0.02]))\n",
    "push!(bns, DiscreteCPD(:E, [:B, :S], [2,2],\n",
    "        [Categorical([0.9, 0.1]), # (B=1 & S=1 & E=1, B=1 & S=1 & S=2)\n",
    "         Categorical([0.05,0.95]), #(B=2 & S=1 & E=1, B=2 & S=1 & E=2)\n",
    "         Categorical([0.04,0.96]), #(B=1 & S=2 & E=1, B=1 & S=2 & E=2)\n",
    "         Categorical([0.01,0.99])])) #(B=2 & S=2 & E=1, B=2 & S=2 & E=2)\n",
    "push!(bns, DiscreteCPD(:D, [:E], [2],\n",
    "        [Categorical([0.96, 0.04]), #(E=1 & D=1, E=1 & D=2)\n",
    "         Categorical([0.03, 0.97])])) #(E=2 & D=1, E=2 & D=2)\n",
    "push!(bns, DiscreteCPD(:C, [:E], [2],\n",
    "        [Categorical([0.98, 0.02]), #(E=1 & C=1, E=1 & C=2)\n",
    "         Categorical([0.01, 0.99])])) #(E=2 & D=1, E=2 & D=2)\n"
   ]
  },
  {
   "cell_type": "code",
   "execution_count": null,
   "id": "e66a2e2e-50cf-4a18-b9b6-5a46d8f9eb7c",
   "metadata": {},
   "outputs": [],
   "source": [
    "table(bns, :E)"
   ]
  },
  {
   "cell_type": "markdown",
   "id": "02234943-987d-4c27-b28f-1b803c7cfd32",
   "metadata": {},
   "source": [
    "### What is the probability of there being a battery failure given that we have a trajectory deviation?\n",
    "\n",
    "- We specify what we know using `evidence` and `Assignment`\n",
    "  - In this case we are assigning the value of 2 (True) to `:D` (deviation)\n",
    "- We then `infer` the value we are interested, in this case `:B` (battery)"
   ]
  },
  {
   "cell_type": "code",
   "execution_count": null,
   "id": "110d9e43-c82b-4e06-ae64-f58085e04333",
   "metadata": {},
   "outputs": [],
   "source": [
    "infer(bns, :B, evidence=Assignment(:D=>2))"
   ]
  },
  {
   "cell_type": "markdown",
   "id": "8802883e-b036-4659-915e-237e9916ba56",
   "metadata": {},
   "source": [
    "### What is the state of the battery if we have trajectory deviation and we know the solar panel has failed?"
   ]
  },
  {
   "cell_type": "code",
   "execution_count": null,
   "id": "e337fb23-cd94-47e5-851b-9e8e800ae4a7",
   "metadata": {},
   "outputs": [],
   "source": [
    "infer(bns, :B, evidence=Assignment(:D=>2, :S=>2))"
   ]
  },
  {
   "cell_type": "markdown",
   "id": "25ae7014-4527-425a-8945-b82652bf2a39",
   "metadata": {},
   "source": [
    "## Example: COVID, Smoking, and Hospitalization\n",
    "\n",
    "This is a modification of a network shared [here](https://github.com/sisl/BayesNets.jl/issues/89#issue-623287862).\n",
    "\n",
    "<img src=\"covid.png\" alt=\"covid model\" width=\"175\">\n",
    "\n",
    "- 25% of the community smokes\n",
    "- 10% of the community has COVID-19\n",
    "- 1% of non-smokers, COVID-19 negative people are hospitalized\n",
    "- 5% of smokers, COVID-19 negative people are hospitalized\n",
    "- 10% of non-smokers, COVID-19 positive people are hospitalized\n",
    "- 20% of smokers, COVID-19 positive people are hospitalized"
   ]
  },
  {
   "cell_type": "code",
   "execution_count": null,
   "id": "7ede5091-8fa4-45ef-857b-c79ff0101bde",
   "metadata": {},
   "outputs": [],
   "source": [
    "bnc = DiscreteBayesNet()\n",
    "push!(bnc, DiscreteCPD(:Smoker, [0.75,0.25]))\n",
    "push!(bnc, DiscreteCPD(:COVID19, [0.9,0.1]))\n",
    "push!(bnc, DiscreteCPD(:Hospitalized, [:Smoker, :COVID19], [2,2], \n",
    "        [Categorical([0.99,0.01]), # (Prob -hosp given -smoke AND -covid,Prob +hosp given -smoke AND -covid)\n",
    "         Categorical([0.95,0.05]), # (Prob -hosp given +smoke AND -covid, Prob +hosp given +smoke AND -covid)\n",
    "         Categorical([0.90,0.10]), # (Prob -hosp given -smoke AND +covid, Prob +hosp given -smoke AND +covid)\n",
    "         Categorical([0.60,0.40]), # (Prob -hosp given +smoke AND +covid, Prob +hosp given +smoke AND +covid)\n",
    "        ]))"
   ]
  },
  {
   "cell_type": "code",
   "execution_count": null,
   "id": "46130c26-ef40-40fb-9739-ce9884bb5ce9",
   "metadata": {},
   "outputs": [],
   "source": [
    "table(bnc, :Hospitalized)"
   ]
  },
  {
   "cell_type": "markdown",
   "id": "ae6593bb-facb-4947-9515-e9a9a42c7cd3",
   "metadata": {},
   "source": [
    "### What are our probabilities of being hospitalized knowing nothing about the patient?"
   ]
  },
  {
   "cell_type": "code",
   "execution_count": null,
   "id": "84f152b1-66aa-4623-bd27-9f9ff0be8076",
   "metadata": {},
   "outputs": [],
   "source": [
    "f3 = infer(bnc, :Hospitalized)"
   ]
  },
  {
   "cell_type": "code",
   "execution_count": null,
   "id": "55530768-e2e0-4eff-b2a2-02838b98f1d6",
   "metadata": {},
   "outputs": [],
   "source": [
    "sum(f3.potential)"
   ]
  },
  {
   "cell_type": "markdown",
   "id": "b706696f-df7a-4a3c-b428-ebdfbd8f6c65",
   "metadata": {
    "tags": []
   },
   "source": [
    "### What are our probabilities of being hospitalized knowing +covid?"
   ]
  },
  {
   "cell_type": "code",
   "execution_count": null,
   "id": "a33cdf30-4ce3-407a-965d-5921d0478d85",
   "metadata": {},
   "outputs": [],
   "source": [
    "f3 = infer(bnc, :Hospitalized, evidence=Assignment(:COVID19=>2))"
   ]
  },
  {
   "cell_type": "markdown",
   "id": "717194a1-bae7-4ab6-80ab-d0086ac2b3dd",
   "metadata": {},
   "source": [
    "### Knowing nothing other than the person is hospitalized, what are the chances they have COVID?"
   ]
  },
  {
   "cell_type": "code",
   "execution_count": null,
   "id": "0f5f7d51-f649-438b-b0bb-643da64d28cf",
   "metadata": {},
   "outputs": [],
   "source": [
    "infer(bnc, :COVID19, evidence=Assignment(:Hospitalized=>2))"
   ]
  },
  {
   "cell_type": "code",
   "execution_count": null,
   "id": "b962717b-614b-44ee-afd1-213cfc8c12bb",
   "metadata": {},
   "outputs": [],
   "source": [
    "infer(bnc, :COVID19, evidence=Assignment(:Hospitalized=>2, :Smoker=>2))"
   ]
  },
  {
   "cell_type": "markdown",
   "id": "3d82e2ea-c291-4e66-8137-1ed698381085",
   "metadata": {},
   "source": [
    "### Change the values around and see how the behavior changes\n",
    "- Remember the values in the square brackets have to add up to 1\n",
    "- If they don't, you'll get an error like this:\n",
    "\n",
    "```\n",
    "DomainError with [0.8, 0.4]:\n",
    "Categorical: vector p is not a probability vector\n",
    "\n",
    "Stacktrace:\n",
    " [1] #117\n",
    "   @ ~/.julia/packages/Distributions/1PkiH/src/univariate/discrete/categorical.jl:30 [inlined]\n",
    " [2] check_args\n",
    "   @ ~/.julia/packages/Distributions/1PkiH/src/utils.jl:89 [inlined]\n",
    " [3] #_#116\n",
    "   @ ~/.julia/packages/Distributions/1PkiH/src/univariate/discrete/categorical.jl:30 [inlined]\n",
    " [4] #Categorical#119\n",
    "   @ ~/.julia/packages/Distributions/1PkiH/src/univariate/discrete/categorical.jl:34 [inlined]\n",
    " [5] (Categorical{P} where P<:Real)(p::Vector{Float64})\n",
    "   @ Distributions ~/.julia/packages/Distributions/1PkiH/src/univariate/discrete/categorical.jl:34\n",
    " [6] top-level scope\n",
    "   @ In[190]:4\n",
    " [7] eval\n",
    "   @ ./boot.jl:373 [inlined]\n",
    " [8] include_string(mapexpr::typeof(REPL.softscope), mod::Module, code::String, filename::String)\n",
    "   @ Base ./loading.jl:1196\n",
    "```\n",
    "Just fix the values and rerun."
   ]
  },
  {
   "cell_type": "code",
   "execution_count": null,
   "id": "2c45e412-2556-49bc-a3a4-620b0666040f",
   "metadata": {},
   "outputs": [],
   "source": []
  }
 ],
 "metadata": {
  "kernelspec": {
   "display_name": "Julia 1.7.0",
   "language": "julia",
   "name": "julia-1.7"
  },
  "language_info": {
   "file_extension": ".jl",
   "mimetype": "application/julia",
   "name": "julia",
   "version": "1.7.3"
  }
 },
 "nbformat": 4,
 "nbformat_minor": 5
}
